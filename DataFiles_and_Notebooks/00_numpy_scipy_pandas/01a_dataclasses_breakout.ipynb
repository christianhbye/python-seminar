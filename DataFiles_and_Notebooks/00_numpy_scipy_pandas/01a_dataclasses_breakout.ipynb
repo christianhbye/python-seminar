{
 "cells": [
  {
   "cell_type": "markdown",
   "id": "c55279ad",
   "metadata": {},
   "source": [
    "# dataclasses_breakout\n",
    "\n",
    "Let's keep track of atoms in molecules with `dataclasses`.\n",
    "\n",
    "## Question 1\n",
    "\n",
    "First, build a dataclass called `atom` that holds the `name`, `symbol`, `A` (mass, in atomic mass units), and `Z` (atomic charge, number of protons). Add a `__post_init__(self)` method that computes an additional field `p`, the number of protons in the atom/isotope. Hint: assume that the number of protons $p = A - Z$, where $A$ is rounded to the nearest integer (the Python built-in `round` is your friend).\n",
    "\n",
    "Add a method:\n",
    "```python\n",
    "    def __hash__(self):\n",
    "        return hash(self.symbol)\n",
    "```\n",
    "We'll see why we need that later..."
   ]
  },
  {
   "cell_type": "code",
   "execution_count": 1,
   "id": "a4353d17",
   "metadata": {},
   "outputs": [],
   "source": [
    "from dataclasses import dataclass, field"
   ]
  },
  {
   "cell_type": "code",
   "execution_count": 24,
   "id": "935961ce",
   "metadata": {},
   "outputs": [],
   "source": [
    "@dataclass\n",
    "class atom:\n",
    "    name: str\n",
    "    symbol: str\n",
    "    A: float\n",
    "    Z: int\n",
    "    p: int = field(init=False)\n",
    "    \n",
    "    def __post_init__(self):\n",
    "        self.p=round(self.A,0)-self.Z\n",
    "        \n",
    "    def __hash__(self):\n",
    "        return hash(self.symbol)"
   ]
  },
  {
   "cell_type": "markdown",
   "id": "d4ab6e0c",
   "metadata": {},
   "source": [
    "## Question 2\n",
    "\n",
    "Now make two atoms called `H` (name=hydrogen, symbol = `H`, $A=1.007825$, $Z=1$) and `C` (name=carbon, symbol = `C`, $A=12.0107$, $Z=6$)."
   ]
  },
  {
   "cell_type": "code",
   "execution_count": 25,
   "id": "7ced8f96",
   "metadata": {},
   "outputs": [],
   "source": [
    "H=atom(name='hydrogen', symbol='H', A=1.007825, Z=1)\n",
    "C=atom(name='carbon', symbol='C', A=12.0107, Z=6)"
   ]
  },
  {
   "cell_type": "markdown",
   "id": "a05be8be",
   "metadata": {},
   "source": [
    "## Question 3\n",
    "\n",
    "Now make a dataclass called `molecule` which has fields `name` and `atoms`, which is a list of type `atom`. Create a `__repr_html__` method which displays the atomic composition."
   ]
  },
  {
   "cell_type": "code",
   "execution_count": 30,
   "id": "ffcabd59",
   "metadata": {},
   "outputs": [],
   "source": [
    "@dataclass\n",
    "class molecule:\n",
    "    name: str\n",
    "    atoms: list[atom]\n",
    "    \n",
    "    def _repr_html_(self):\n",
    "        return \"\".join([atom.symbol+f\"<sub>{self.atoms.count(atom)}</sub>\"\n",
    "                       for atom in set(self.atoms)])"
   ]
  },
  {
   "cell_type": "code",
   "execution_count": 31,
   "id": "fffc8b3d",
   "metadata": {},
   "outputs": [
    {
     "data": {
      "text/html": [
       "H<sub>4</sub>C<sub>1</sub>"
      ],
      "text/plain": [
       "molecule(name='methane', atoms=[atom(name='carbon', symbol='C', A=12.0107, Z=6, p=6.0), atom(name='hydrogen', symbol='H', A=1.007825, Z=1, p=0.0), atom(name='hydrogen', symbol='H', A=1.007825, Z=1, p=0.0), atom(name='hydrogen', symbol='H', A=1.007825, Z=1, p=0.0), atom(name='hydrogen', symbol='H', A=1.007825, Z=1, p=0.0)])"
      ]
     },
     "execution_count": 31,
     "metadata": {},
     "output_type": "execute_result"
    }
   ],
   "source": [
    "methane = molecule(name=\"methane\", atoms=[C, H, H, H, H])\n",
    "methane"
   ]
  }
 ],
 "metadata": {
  "kernelspec": {
   "display_name": "Python 3 (ipykernel)",
   "language": "python",
   "name": "python3"
  },
  "language_info": {
   "codemirror_mode": {
    "name": "ipython",
    "version": 3
   },
   "file_extension": ".py",
   "mimetype": "text/x-python",
   "name": "python",
   "nbconvert_exporter": "python",
   "pygments_lexer": "ipython3",
   "version": "3.9.9"
  },
  "toc": {
   "base_numbering": 1,
   "nav_menu": {},
   "number_sections": true,
   "sideBar": true,
   "skip_h1_title": false,
   "title_cell": "Table of Contents",
   "title_sidebar": "Contents",
   "toc_cell": false,
   "toc_position": {},
   "toc_section_display": true,
   "toc_window_display": false
  },
  "varInspector": {
   "cols": {
    "lenName": 16,
    "lenType": 16,
    "lenVar": 40
   },
   "kernels_config": {
    "python": {
     "delete_cmd_postfix": "",
     "delete_cmd_prefix": "del ",
     "library": "var_list.py",
     "varRefreshCmd": "print(var_dic_list())"
    },
    "r": {
     "delete_cmd_postfix": ") ",
     "delete_cmd_prefix": "rm(",
     "library": "var_list.r",
     "varRefreshCmd": "cat(var_dic_list()) "
    }
   },
   "types_to_exclude": [
    "module",
    "function",
    "builtin_function_or_method",
    "instance",
    "_Feature"
   ],
   "window_display": false
  }
 },
 "nbformat": 4,
 "nbformat_minor": 5
}
